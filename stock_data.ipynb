{
 "cells": [
  {
   "cell_type": "code",
   "execution_count": 10,
   "metadata": {},
   "outputs": [],
   "source": [
    "##### Imports #####\n",
    "from selenium import webdriver\n",
    "from selenium.webdriver.common.keys import Keys\n",
    "from selenium.webdriver.common.action_chains import ActionChains\n",
    "from bs4 import BeautifulSoup\n",
    "import datetime, re, requests, io, time, random, string\n",
    "from credentials import email, password\n"
   ]
  },
  {
   "cell_type": "code",
   "execution_count": 11,
   "metadata": {},
   "outputs": [],
   "source": [
    "driver = webdriver.Chrome('/home/corey/Desktop/SEI1019/unit_four/codealong/chromedriver') # open chrome\n",
    "time.sleep(1)"
   ]
  },
  {
   "cell_type": "code",
   "execution_count": 12,
   "metadata": {},
   "outputs": [],
   "source": [
    "\n",
    "def sign_in(email=email, password=password):\n",
    "    driver.get('https://wallmine.com') # go to url in address bar\n",
    "    time.sleep(1)\n",
    "    driver.find_element_by_xpath('/html/body/main/header/div/ul/li[1]/ul/li[3]/a').click() # Click on sign in\n",
    "    time.sleep(1)\n",
    "    driver.find_element_by_xpath('//*[@id=\"new_user\"]/div[5]/div[1]/div[2]/a').click() # Click on sign in w/password\n",
    "    if \"We're glad you're back!\" in driver.page_source: # this conditional checks that we're on the right page.\n",
    "        print(\"On Sign in page!\")\n",
    "        driver.find_element_by_xpath('//*[@id=\"user_email\"]').send_keys(email) # inputs email into email input field\n",
    "        driver.find_element_by_xpath('//*[@id=\"user_password\"]').send_keys(password) # inputs password into password field\n",
    "        time.sleep(0.1)\n",
    "        driver.find_element_by_xpath('//*[@id=\"new_user\"]/div[5]/div[2]/div[1]/button').click()\n",
    "        time.sleep(1)\n",
    "    if 'Stock market overview' in driver.page_source:\n",
    "        print(\"Sign In Successful\")\n",
    "    else:\n",
    "       print(\"start over app\")\n"
   ]
  },
  {
   "cell_type": "code",
   "execution_count": 13,
   "metadata": {},
   "outputs": [
    {
     "output_type": "stream",
     "name": "stdout",
     "text": [
      "On Sign in page!\n",
      "Sign In Successful\n"
     ]
    }
   ],
   "source": [
    "# run the sign in function\n",
    "sign_in()"
   ]
  },
  {
   "cell_type": "code",
   "execution_count": 14,
   "metadata": {},
   "outputs": [],
   "source": [
    "stock_list = [\n",
    "  {'stock_ticker': 'AAPL', 'exchange': 'NASDAQ'},\n",
    "  # {'stock_ticker': 'MSFT', 'exchange': 'NASDAQ'},\n",
    "  # {'stock_ticker': 'AMZN', 'exchange': 'NASDAQ'},\n",
    "  # {'stock_ticker': 'GOOG', 'exchange': 'NASDAQ'},\n",
    "  # {'stock_ticker': 'GOOGL', 'exchange': 'NASDAQ'},\n",
    "  # {'stock_ticker': 'FB', 'exchange': 'NASDAQ'},\n",
    "  # {'stock_ticker': 'BABA', 'exchange': 'NYSE'},\n",
    "  # {'stock_ticker': 'TSLA', 'exchange': 'NASDAQ'},\n",
    "  # {'stock_ticker': 'BRK-A', 'exchange': 'NYSE'},\n",
    "  # {'stock_ticker': 'BRK-B', 'exchange': 'NYSE'},\n",
    "  # {'stock_ticker': 'TSM', 'exchange': 'NYSE'},\n",
    "  # {'stock_ticker': 'V', 'exchange': 'NYSE'},\n",
    "  # {'stock_ticker': 'WMT', 'exchange': 'NYSE'},\n",
    "  # {'stock_ticker': 'JNJ', 'exchange': 'NYSE'},\n",
    "  # {'stock_ticker': 'JPM', 'exchange': 'NYSE'},\n",
    "  # {'stock_ticker': 'MA', 'exchange': 'NYSE'},\n",
    "  # {'stock_ticker': 'PG', 'exchange': 'NYSE'},\n",
    "  # {'stock_ticker': 'UNH', 'exchange': 'NYSE'},\n",
    "  # {'stock_ticker': 'NVDA', 'exchange': 'NASDAQ'},\n",
    "  # {'stock_ticker': 'DIS', 'exchange': 'NYSE'},\n",
    "  # {'stock_ticker': 'HD', 'exchange': 'NYSE'},\n",
    "  # {'stock_ticker': 'BAC', 'exchange': 'NYSE'},\n",
    "  # {'stock_ticker': 'VZ', 'exchange': 'NYSE'},\n",
    "  # {'stock_ticker': 'PYPL', 'exchange': 'NASDAQ'},\n",
    "  # {'stock_ticker': 'CMCSA', 'exchange': 'NASDAQ'},\n",
    "  # {'stock_ticker': 'INTC', 'exchange': 'NASDAQ'},\n",
    "  # {'stock_ticker': 'KO', 'exchange': 'NYSE'},\n",
    "  # {'stock_ticker': 'PFE', 'exchange': 'NYSE'},\n",
    "  # {'stock_ticker': 'NFLX', 'exchange': 'NASDAQ'},\n",
    "  # {'stock_ticker': 'T', 'exchange': 'NYSE'},\n",
    "  # {'stock_ticker': 'ADBE', 'exchange': 'NASDAQ'},\n",
    "  # {'stock_ticker': 'PDD', 'exchange': 'NASDAQ'},\n",
    "  # {'stock_ticker': 'NKE', 'exchange': 'NYSE'},\n",
    "  # {'stock_ticker': 'MPNGY', 'exchange': 'NYSEMKT'},\n",
    "  # {'stock_ticker': 'MPNGY', 'exchange': 'NASDAQ'},\n",
    "  # {'stock_ticker': 'TM', 'exchange': 'NYSE'},\n",
    "  # {'stock_ticker': 'MRK', 'exchange': 'NYSE'},\n",
    "  # {'stock_ticker': 'NVS', 'exchange': 'NYSE'},\n",
    "  # {'stock_ticker': 'CRM', 'exchange': 'NYSE'},\n",
    "  # {'stock_ticker': 'XOM', 'exchange': 'NYSE'},\n",
    "  # {'stock_ticker': 'ABT', 'exchange': 'NYSE'},\n",
    "  # {'stock_ticker': 'CSCO', 'exchange': 'NASDAQ'},\n",
    "  # {'stock_ticker': 'ASML', 'exchange': 'NASDAQ'},\n",
    "  # {'stock_ticker': 'ABBV', 'exchange': 'NYSE'},\n",
    "  # {'stock_ticker': 'TMO', 'exchange': 'NYSE'},\n",
    "  # {'stock_ticker': 'PEP', 'exchange': 'NASDAQ'},\n",
    "  # {'stock_ticker': 'ORCL', 'exchange': 'NYSE'},\n",
    "  # {'stock_ticker': 'CVX', 'exchange': 'NYSE'},\n",
    "  # {'stock_ticker': 'PROSY', 'exchange': 'NYSEMKT'},\n",
    "  # {'stock_ticker': 'QCOM', 'exchange': 'NASDAQ'},\n",
    "]"
   ]
  },
  {
   "cell_type": "code",
   "execution_count": 15,
   "metadata": {},
   "outputs": [],
   "source": [
    "def get_data(stock_list): # needs to be an array of objects, objects need stock_ticker and exchange as keys\n",
    "    for i in range(len(stock_list)):\n",
    "        each_stock = stock_list[i]\n",
    "        print(f\"{i}: {each_stock.get('stock_ticker')}, exchange: {each_stock.get('exchange')}\")\n",
    "        driver.get(f\"http://wallmine.com/{each_stock.get('exchange')}/{each_stock.get('stock_ticker')}\")\n",
    "        # company_name \n",
    "        company_name = driver.find_element_by_xpath('/html/body/main/section/div[2]/div/div[1]/h1/div[2]/a').text\n",
    "        # current_price\n",
    "        current_price = driver.find_element_by_xpath('/html/body/main/section/div[3]/div/div/div/div/div[2]/div/div[1]/span[1]').text\n",
    "        # percentage positive and negative percentages are different classes\n",
    "\n",
    "        percentage = driver.find_element_by_xpath('/html/body/main/section/div[3]/div/div/div/div/div[2]/div/div[2]/div').text\n",
    "        price_movement = True\n",
    "        if driver.find_elements_by_class_name('badge.badge-success'):\n",
    "            price_up = driver.find_elements_by_class_name('badge.badge-success')[0].text\n",
    "            if price_up == percentage:\n",
    "                print('price up')\n",
    "        elif driver.find_elements_by_class_name('badge.badge-danger'):\n",
    "            price_down = driver.find_elements_by_class_name('badge.badge-danger')[0].text\n",
    "            if price_down == percentage:\n",
    "                price_movement = False\n",
    "                print('price down')\n",
    "        # amount_changed\n",
    "        amount_changed = float(driver.find_element_by_xpath('/html/body/main/section/div[3]/div/div/div/div/div[2]/div/div[1]/span[2]').text[1:])\n",
    "        # market_cap\n",
    "        check_market_cap = driver.find_element_by_xpath('/html/body/main/section/div[4]/div[1]/div[2]/div[1]/div[1]/table/tbody/tr[1]/td/span').text\n",
    "        market_cap = 0\n",
    "        if check_market_cap[-1] == 'B':\n",
    "            market_cap = float(check_market_cap[1:-1]) * 1000000000\n",
    "        elif check_market_cap[-1] == 'M':\n",
    "            market_cap = float(check_market_cap[1:-1]) * 1000000\n",
    "        elif check_market_cap[-1] == 'T':\n",
    "            market_cap = float(check_market_cap[1:-1]) * 1000000000000\n",
    "        else:\n",
    "            market_cap = 'N/A'\n",
    "        # enterprise_value\n",
    "        check_enterprise_value = driver.find_element_by_xpath('/html/body/main/section/div[4]/div[1]/div[2]/div[1]/div[1]/table/tbody/tr[2]/td/span').text\n",
    "        enterprise_value = 0\n",
    "        if check_enterprise_value[-1] == 'B':\n",
    "            enterprise_value = float(check_enterprise_value[1:-1]) * 1000000000\n",
    "        elif check_enterprise_value[-1] == 'M':\n",
    "            enterprise_value = float(check_enterprise_value[1:-1]) * 1000000\n",
    "        elif check_enterprise_value[-1] == 'T':\n",
    "            enterprise_value = float(check_enterprise_value[1:-1]) * 1000000000000\n",
    "        else:\n",
    "            enterprise_cap = 'N/A'\n",
    "        # ebitda\n",
    "        check_ebitda = driver.find_element_by_xpath('/html/body/main/section/div[4]/div[1]/div[2]/div[1]/div[2]/table/tbody/tr[2]/td/span').text\n",
    "        ebitda = 0\n",
    "        if check_ebitda[-1] == 'B':\n",
    "            ebitda = float(check_ebitda[1:-1]) * 1000000000\n",
    "        elif check_ebitda[-1] == 'M':\n",
    "            ebitda = float(check_ebitda[1:-1]) * 1000000\n",
    "        elif check_ebitda[-1] == 'T':\n",
    "            ebitda = float(check_ebitda[1:-1]) * 1000000000000\n",
    "        else:\n",
    "            ebitda = 'N/A'\n",
    "        # income\n",
    "        check_income = driver.find_element_by_xpath('/html/body/main/section/div[4]/div[1]/div[2]/div[1]/div[2]/table/tbody/tr[3]/td/span').text\n",
    "        income = 0\n",
    "        if check_income[-1] == 'B':\n",
    "            income = float(check_income[1:-1]) * 1000000000\n",
    "        elif check_income[-1] == 'M':\n",
    "            income = float(check_income[1:-1]) * 1000000\n",
    "        elif check_income[-1] == 'T':\n",
    "            income = float(check_income[1:-1]) * 1000000000000\n",
    "        else:\n",
    "            income = 'N/A'\n",
    "        # volume\n",
    "        check_volume = driver.find_element_by_xpath('/html/body/main/section/div[4]/div[1]/div[2]/div[2]/div[1]/table/tbody/tr[1]/td').text.split(' / ')\n",
    "        volume_purchased = check_volume[0]\n",
    "        volume_outstanding = check_volume[1]\n",
    "        # relative_volume\n",
    "        relative_volume = driver.find_element_by_xpath('/html/body/main/section/div[4]/div[1]/div[2]/div[2]/div[1]/table/tbody/tr[2]/td/span').text\n",
    "        print(volume_outstanding)\n",
    "            # time.sleep(3)\n",
    "\n",
    "\n",
    "    # Stock Object\n",
    "        stock_object = {\n",
    "        'company_name': company_name,\n",
    "        'current_price': current_price,\n",
    "        'percentage': percentage,\n",
    "        'price_movement': price_movement,\n",
    "        'amount_changed': amount_changed,\n",
    "        'market_cap': market_cap,\n",
    "        'enterprise_value': enterprise_value,\n",
    "        'ebitda': ebitda,\n",
    "        'volume': check_volume,\n",
    "        'volume_purchased': volume_purchased,\n",
    "        'volume_outstanding': volume_outstanding,\n",
    "        'relative_volume': relative_volume\n",
    "    }\n",
    "\n",
    "        print(stock_object)"
   ]
  },
  {
   "cell_type": "code",
   "execution_count": 16,
   "metadata": {},
   "outputs": [
    {
     "output_type": "stream",
     "name": "stdout",
     "text": [
      "0: AAPL, exchange: NASDAQ\n",
      "price up\n",
      "99.692M\n",
      "{'company_name': 'Apple Inc', 'current_price': '$127.83', 'percentage': '0.54%', 'price_movement': True, 'amount_changed': 0.69, 'market_cap': 1970000000000.0, 'enterprise_value': 2200000000000.0, 'ebitda': 77344000000.0, 'volume': ['0.000', '99.692M'], 'volume_purchased': '0.000', 'volume_outstanding': '99.692M', 'relative_volume': '0.00 ×'}\n"
     ]
    }
   ],
   "source": [
    "get_data(stock_list)"
   ]
  },
  {
   "cell_type": "code",
   "execution_count": 17,
   "metadata": {},
   "outputs": [
    {
     "output_type": "error",
     "ename": "NameError",
     "evalue": "name 'stock_object' is not defined",
     "traceback": [
      "\u001b[0;31m---------------------------------------------------------------------------\u001b[0m",
      "\u001b[0;31mNameError\u001b[0m                                 Traceback (most recent call last)",
      "\u001b[0;32m<ipython-input-17-ff0a133ddc34>\u001b[0m in \u001b[0;36m<module>\u001b[0;34m\u001b[0m\n\u001b[1;32m      5\u001b[0m \u001b[0mcollection\u001b[0m \u001b[0;34m=\u001b[0m \u001b[0mdb\u001b[0m\u001b[0;34m.\u001b[0m\u001b[0mcurrent_data\u001b[0m\u001b[0;34m\u001b[0m\u001b[0;34m\u001b[0m\u001b[0m\n\u001b[1;32m      6\u001b[0m \u001b[0;34m\u001b[0m\u001b[0m\n\u001b[0;32m----> 7\u001b[0;31m \u001b[0mdb\u001b[0m\u001b[0;34m.\u001b[0m\u001b[0mcurrent_data\u001b[0m\u001b[0;34m.\u001b[0m\u001b[0minsert\u001b[0m\u001b[0;34m(\u001b[0m\u001b[0mstock_object\u001b[0m\u001b[0;34m)\u001b[0m\u001b[0;34m\u001b[0m\u001b[0;34m\u001b[0m\u001b[0m\n\u001b[0m\u001b[1;32m      8\u001b[0m \u001b[0mdb\u001b[0m\u001b[0;34m.\u001b[0m\u001b[0mcurrent_data\u001b[0m\u001b[0;34m.\u001b[0m\u001b[0mfind\u001b[0m\u001b[0;34m(\u001b[0m\u001b[0;34m)\u001b[0m\u001b[0;34m\u001b[0m\u001b[0;34m\u001b[0m\u001b[0m\n",
      "\u001b[0;31mNameError\u001b[0m: name 'stock_object' is not defined"
     ]
    }
   ],
   "source": [
    "from pymongo import MongoClient\n",
    "\n",
    "client = MongoClient()\n",
    "db = client['stock_data']\n",
    "collection = db.current_data\n",
    "\n",
    "db.current_data.insert(stock_data)\n",
    "db.current_data.find_one()"
   ]
  },
  {
   "cell_type": "code",
   "execution_count": null,
   "metadata": {},
   "outputs": [],
   "source": []
  }
 ],
 "metadata": {
  "kernelspec": {
   "display_name": "Python 3",
   "language": "python",
   "name": "python3"
  },
  "language_info": {
   "codemirror_mode": {
    "name": "ipython",
    "version": 3
   },
   "file_extension": ".py",
   "mimetype": "text/x-python",
   "name": "python",
   "nbconvert_exporter": "python",
   "pygments_lexer": "ipython3",
   "version": "3.8.5-final"
  }
 },
 "nbformat": 4,
 "nbformat_minor": 4
}